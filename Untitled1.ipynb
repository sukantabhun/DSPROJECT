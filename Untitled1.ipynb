{
 "cells": [
  {
   "cell_type": "code",
   "execution_count": 5,
   "id": "98418696",
   "metadata": {},
   "outputs": [
    {
     "name": "stdout",
     "output_type": "stream",
     "text": [
      "Original data:\n",
      "[[1]\n",
      " [2]\n",
      " [3]]\n",
      "Polynomial features:\n",
      "[[ 1.  1.  1.  1.]\n",
      " [ 1.  2.  4.  8.]\n",
      " [ 1.  3.  9. 27.]]\n"
     ]
    }
   ],
   "source": [
    "from sklearn.preprocessing import PolynomialFeatures\n",
    "import numpy as np\n",
    "\n",
    "# Example input data\n",
    "X = np.array([1, 2, 3]).reshape(-1, 1)  # Reshape to a column vector\n",
    "\n",
    "# Create PolynomialFeatures object\n",
    "poly = PolynomialFeatures(degree=3)  # Generate polynomial features up to degree 2\n",
    "\n",
    "# Transform the input data to polynomial features\n",
    "X_poly = poly.fit_transform(X)\n",
    "\n",
    "print(\"Original data:\")\n",
    "print(X)\n",
    "\n",
    "print(\"Polynomial features:\")\n",
    "print(X_poly)\n"
   ]
  },
  {
   "cell_type": "code",
   "execution_count": null,
   "id": "f7d6baeb",
   "metadata": {},
   "outputs": [],
   "source": []
  }
 ],
 "metadata": {
  "kernelspec": {
   "display_name": "Python 3 (ipykernel)",
   "language": "python",
   "name": "python3"
  },
  "language_info": {
   "codemirror_mode": {
    "name": "ipython",
    "version": 3
   },
   "file_extension": ".py",
   "mimetype": "text/x-python",
   "name": "python",
   "nbconvert_exporter": "python",
   "pygments_lexer": "ipython3",
   "version": "3.11.3"
  }
 },
 "nbformat": 4,
 "nbformat_minor": 5
}
